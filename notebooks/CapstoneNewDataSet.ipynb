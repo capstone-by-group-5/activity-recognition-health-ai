{
 "cells": [
  {
   "cell_type": "code",
   "execution_count": 1,
   "id": "dd82dd9d",
   "metadata": {},
   "outputs": [],
   "source": [
    "#!pip install tensorflow-macos\n",
    "#!pip install tensorflow-metal"
   ]
  },
  {
   "cell_type": "code",
   "execution_count": 2,
   "id": "2e34ff79",
   "metadata": {},
   "outputs": [],
   "source": [
    "# Install PyTorch with MPS (Metal)\n",
    "#!pip install torch torchvision torchaudio"
   ]
  },
  {
   "cell_type": "code",
   "execution_count": 35,
   "id": "3de0dc3c",
   "metadata": {},
   "outputs": [],
   "source": [
    "import pandas as pd\n",
    "import numpy as np\n",
    "\n",
    "import seaborn as sns\n",
    "import matplotlib.pyplot as plt"
   ]
  },
  {
   "cell_type": "code",
   "execution_count": 36,
   "id": "aa4d3773",
   "metadata": {},
   "outputs": [],
   "source": [
    "import zipfile\n",
    "import os\n",
    "\n",
    "# Path to your zip file\n",
    "zip_file_path = 'Raw_time_domian_data.zip'\n",
    "\n",
    "# Extract the zip file\n",
    "with zipfile.ZipFile(zip_file_path, 'r') as zip_ref:\n",
    "    zip_ref.extractall('extracted_dataset')  # Extracts to 'extracted_dataset' folder\n",
    "\n",
    "# Path to the extracted directory\n",
    "extracted_path = 'extracted_dataset'"
   ]
  },
  {
   "cell_type": "code",
   "execution_count": 37,
   "id": "5b9a265f",
   "metadata": {},
   "outputs": [],
   "source": [
    "# Column names to assign\n",
    "column_names = [\n",
    "    \"time_acc\", \"acc_x\", \"acc_y\", \"acc_z\",\n",
    "    \"time_gyro\", \"gyro_x\", \"gyro_y\", \"gyro_z\"\n",
    "]"
   ]
  },
  {
   "cell_type": "code",
   "execution_count": 38,
   "id": "2c9333dc",
   "metadata": {},
   "outputs": [],
   "source": [
    "#!pip install polars"
   ]
  },
  {
   "cell_type": "code",
   "execution_count": 39,
   "id": "0d8cf079",
   "metadata": {},
   "outputs": [
    {
     "name": "stdout",
     "output_type": "stream",
     "text": [
      "📚 Loading data for activity: 15.Stair-up\n",
      "📚 Loading data for activity: 0.Stand\n",
      "📚 Loading data for activity: 8.Jump\n",
      "📚 Loading data for activity: 6.Lay-stand\n",
      "📚 Loading data for activity: 13.Walk-circle\n",
      "📚 Loading data for activity: 10.Sit-up\n",
      "📚 Loading data for activity: 7.Pick\n",
      "📚 Loading data for activity: 16.Stair-down\n",
      "📚 Loading data for activity: 4.Stand-sit\n",
      "📚 Loading data for activity: 17.Table-tennis\n",
      "📚 Loading data for activity: 2.Talk-sit\n",
      "📚 Loading data for activity: 1.Sit\n",
      "📚 Loading data for activity: 9.Push-up\n",
      "📚 Loading data for activity: 5.Lay\n",
      "📚 Loading data for activity: 12.Walk-backwards\n",
      "📚 Loading data for activity: 14.Run\n",
      "📚 Loading data for activity: 3.Talk-stand\n",
      "📚 Loading data for activity: 11.Walk\n",
      "✅ All CSVs loaded successfully!\n",
      "shape: (5, 10)\n",
      "┌──────────┬───────────┬───────────┬───────────┬───┬───────────┬───────────┬───────────┬───────────┐\n",
      "│ time_acc ┆ acc_x     ┆ acc_y     ┆ acc_z     ┆ … ┆ gyro_y    ┆ gyro_z    ┆ activity  ┆ source_fi │\n",
      "│ ---      ┆ ---       ┆ ---       ┆ ---       ┆   ┆ ---       ┆ ---       ┆ ---       ┆ le        │\n",
      "│ f64      ┆ f64       ┆ f64       ┆ f64       ┆   ┆ f64       ┆ f64       ┆ str       ┆ ---       │\n",
      "│          ┆           ┆           ┆           ┆   ┆           ┆           ┆           ┆ str       │\n",
      "╞══════════╪═══════════╪═══════════╪═══════════╪═══╪═══════════╪═══════════╪═══════════╪═══════════╡\n",
      "│ 0.009    ┆ -0.717604 ┆ -0.275726 ┆ -0.657217 ┆ … ┆ -0.155557 ┆ 0.160639  ┆ 15.Stair- ┆ 1034_S_1. │\n",
      "│          ┆           ┆           ┆           ┆   ┆           ┆           ┆ up        ┆ csv       │\n",
      "│ 0.019    ┆ -0.623145 ┆ -0.236224 ┆ -0.770541 ┆ … ┆ -0.074923 ┆ 0.197902  ┆ 15.Stair- ┆ 1034_S_1. │\n",
      "│          ┆           ┆           ┆           ┆   ┆           ┆           ┆ up        ┆ csv       │\n",
      "│ 0.029    ┆ -0.473468 ┆ -0.16357  ┆ -0.931721 ┆ … ┆ -0.013225 ┆ 0.3090795 ┆ 15.Stair- ┆ 1034_S_1. │\n",
      "│          ┆           ┆           ┆           ┆   ┆           ┆           ┆ up        ┆ csv       │\n",
      "│ 0.039    ┆ 0.007947  ┆ 0.1937604 ┆ -1.020936 ┆ … ┆ 0.000214  ┆ 0.374442  ┆ 15.Stair- ┆ 1034_S_1. │\n",
      "│          ┆           ┆           ┆           ┆   ┆           ┆           ┆ up        ┆ csv       │\n",
      "│ 0.049    ┆ 0.4153738 ┆ 0.659868  ┆ -1.006891 ┆ … ┆ 0.0057116 ┆ 0.37994   ┆ 15.Stair- ┆ 1034_S_1. │\n",
      "│          ┆           ┆           ┆           ┆   ┆           ┆           ┆ up        ┆ csv       │\n",
      "└──────────┴───────────┴───────────┴───────────┴───┴───────────┴───────────┴───────────┴───────────┘\n"
     ]
    }
   ],
   "source": [
    "import polars as pl\n",
    "import os\n",
    "\n",
    "# Path to parent directory with extracted data\n",
    "parent_folder_path = 'extracted_dataset/1.Raw_time_domian_data'\n",
    "\n",
    "# List to store DataFrames\n",
    "dataframes = []\n",
    "\n",
    "# Loop through all folders and CSVs\n",
    "for activity_folder in os.listdir(parent_folder_path):\n",
    "    activity_path = os.path.join(parent_folder_path, activity_folder)\n",
    "\n",
    "    # Check if it's a directory (activity folder)\n",
    "    if os.path.isdir(activity_path):\n",
    "        print(f\"📚 Loading data for activity: {activity_folder}\")\n",
    "\n",
    "        # Process each CSV in the activity folder\n",
    "        for file in os.listdir(activity_path):\n",
    "            if file.endswith('.csv'):\n",
    "                file_path = os.path.join(activity_path, file)\n",
    "\n",
    "                try:\n",
    "                    # Read CSV with custom columns and streaming\n",
    "                    df = pl.read_csv(file_path, has_header=False, new_columns=column_names)\n",
    "\n",
    "                    # Add activity and file info for reference\n",
    "                    df = df.with_columns([\n",
    "                        pl.lit(activity_folder).alias('activity'),\n",
    "                        pl.lit(file).alias('source_file')\n",
    "                    ])\n",
    "\n",
    "                    # Append DataFrame to list\n",
    "                    dataframes.append(df)\n",
    "\n",
    "                except Exception as e:\n",
    "                    print(f\"⚠️ Error loading {file}: {e}\")\n",
    "\n",
    "# Concatenate all DataFrames if not empty\n",
    "if dataframes:\n",
    "    combined_df = pl.concat(dataframes, how=\"vertical_relaxed\", rechunk=True)\n",
    "    print('✅ All CSVs loaded successfully!')\n",
    "    print(combined_df.head())\n",
    "else:\n",
    "    print('❗ No valid CSV files found!')"
   ]
  },
  {
   "cell_type": "code",
   "execution_count": 40,
   "id": "b57019ce",
   "metadata": {},
   "outputs": [
    {
     "data": {
      "text/plain": [
       "(6308771, 10)"
      ]
     },
     "execution_count": 40,
     "metadata": {},
     "output_type": "execute_result"
    }
   ],
   "source": [
    "combined_df.shape"
   ]
  },
  {
   "cell_type": "code",
   "execution_count": 41,
   "id": "baf2fc4d",
   "metadata": {},
   "outputs": [],
   "source": [
    "# Remove duplicates based on all columns\n",
    "combined_df = combined_df.unique()"
   ]
  },
  {
   "cell_type": "code",
   "execution_count": 42,
   "id": "4f91b75b",
   "metadata": {},
   "outputs": [
    {
     "data": {
      "text/plain": [
       "(6308769, 10)"
      ]
     },
     "execution_count": 42,
     "metadata": {},
     "output_type": "execute_result"
    }
   ],
   "source": [
    "combined_df.shape"
   ]
  },
  {
   "cell_type": "code",
   "execution_count": 43,
   "id": "d5c29ab7",
   "metadata": {},
   "outputs": [
    {
     "name": "stdout",
     "output_type": "stream",
     "text": [
      "shape: (4, 10)\n",
      "┌──────────┬───────────┬───────────┬───────────┬───┬────────┬────────┬──────────┬───────────────┐\n",
      "│ time_acc ┆ acc_x     ┆ acc_y     ┆ acc_z     ┆ … ┆ gyro_y ┆ gyro_z ┆ activity ┆ source_file   │\n",
      "│ ---      ┆ ---       ┆ ---       ┆ ---       ┆   ┆ ---    ┆ ---    ┆ ---      ┆ ---           │\n",
      "│ f64      ┆ f64       ┆ f64       ┆ f64       ┆   ┆ f64    ┆ f64    ┆ str      ┆ str           │\n",
      "╞══════════╪═══════════╪═══════════╪═══════════╪═══╪════════╪════════╪══════════╪═══════════════╡\n",
      "│ 73.476   ┆ -2.27914  ┆ -0.641479 ┆ 0.031948  ┆ … ┆ null   ┆ null   ┆ 14.Run   ┆ 1101_O_11.csv │\n",
      "│ 73.499   ┆ -1.034262 ┆ -0.394156 ┆ -1.269756 ┆ … ┆ null   ┆ null   ┆ 14.Run   ┆ 1101_O_11.csv │\n",
      "│ 73.499   ┆ -1.130262 ┆ -0.797156 ┆ -1.633756 ┆ … ┆ null   ┆ null   ┆ 14.Run   ┆ 1101_O_11.csv │\n",
      "│ 73.499   ┆ -0.919262 ┆ -1.505156 ┆ -1.537756 ┆ … ┆ null   ┆ null   ┆ 14.Run   ┆ 1101_O_11.csv │\n",
      "└──────────┴───────────┴───────────┴───────────┴───┴────────┴────────┴──────────┴───────────────┘\n"
     ]
    }
   ],
   "source": [
    "# Check for rows with any null values\n",
    "rows_with_nulls = combined_df.filter(combined_df.select(pl.all().is_null()).sum_horizontal() > 0)\n",
    "print(rows_with_nulls)"
   ]
  },
  {
   "cell_type": "code",
   "execution_count": 44,
   "id": "4b29b50b",
   "metadata": {},
   "outputs": [
    {
     "data": {
      "text/plain": [
       "(6308765, 10)"
      ]
     },
     "execution_count": 44,
     "metadata": {},
     "output_type": "execute_result"
    }
   ],
   "source": [
    "# Drop rows with any null values\n",
    "clean_df = combined_df.drop_nulls()\n",
    "clean_df.shape"
   ]
  },
  {
   "cell_type": "code",
   "execution_count": 45,
   "id": "5d93d9cd",
   "metadata": {},
   "outputs": [
    {
     "name": "stdout",
     "output_type": "stream",
     "text": [
      "shape: (18,)\n",
      "Series: 'activity' [str]\n",
      "[\n",
      "\t\"6.Lay-stand\"\n",
      "\t\"12.Walk-backwards\"\n",
      "\t\"17.Table-tennis\"\n",
      "\t\"4.Stand-sit\"\n",
      "\t\"3.Talk-stand\"\n",
      "\t…\n",
      "\t\"0.Stand\"\n",
      "\t\"16.Stair-down\"\n",
      "\t\"9.Push-up\"\n",
      "\t\"10.Sit-up\"\n",
      "\t\"13.Walk-circle\"\n",
      "]\n"
     ]
    }
   ],
   "source": [
    "print(clean_df['activity'].unique())"
   ]
  },
  {
   "cell_type": "code",
   "execution_count": 46,
   "id": "3b2118dc",
   "metadata": {},
   "outputs": [],
   "source": [
    "# Remove numbers followed by a dot\n",
    "clean_df = clean_df.with_columns(\n",
    "    pl.col(\"activity\").str.replace(r\"\\d+\\.\\s*\", \"\").alias(\"activity\")\n",
    ")\n"
   ]
  },
  {
   "cell_type": "code",
   "execution_count": 47,
   "id": "c9accfbf",
   "metadata": {},
   "outputs": [
    {
     "data": {
      "text/plain": [
       "(6308765, 10)"
      ]
     },
     "execution_count": 47,
     "metadata": {},
     "output_type": "execute_result"
    }
   ],
   "source": [
    "clean_df.shape"
   ]
  },
  {
   "cell_type": "code",
   "execution_count": 48,
   "id": "4ab3a07e",
   "metadata": {},
   "outputs": [
    {
     "name": "stdout",
     "output_type": "stream",
     "text": [
      "shape: (18, 2)\n",
      "┌─────────────┬────────┐\n",
      "│ activity    ┆ count  │\n",
      "│ ---         ┆ ---    │\n",
      "│ str         ┆ u32    │\n",
      "╞═════════════╪════════╡\n",
      "│ Pick        ┆ 401207 │\n",
      "│ Stand-sit   ┆ 659668 │\n",
      "│ Push-up     ┆ 158734 │\n",
      "│ Stand       ┆ 562702 │\n",
      "│ Lay-stand   ┆ 527370 │\n",
      "│ …           ┆ …      │\n",
      "│ Walk-circle ┆ 78073  │\n",
      "│ Lay         ┆ 547924 │\n",
      "│ Talk-sit    ┆ 538583 │\n",
      "│ Talk-stand  ┆ 558378 │\n",
      "│ Jump        ┆ 215430 │\n",
      "└─────────────┴────────┘\n"
     ]
    }
   ],
   "source": [
    "# Count class occurrences\n",
    "class_counts = clean_df.group_by(\"activity\").agg(\n",
    "    pl.col(\"activity\").count().alias(\"count\")\n",
    ")\n",
    "\n",
    "print(class_counts)"
   ]
  },
  {
   "cell_type": "code",
   "execution_count": 49,
   "id": "0ae60edd",
   "metadata": {},
   "outputs": [],
   "source": [
    "# Drop rows where 'activity' equals 'walking'\n",
    "df_filtered = clean_df.filter(clean_df[\"activity\"] != \"Table-tennis\")"
   ]
  },
  {
   "cell_type": "code",
   "execution_count": 50,
   "id": "ffde804e",
   "metadata": {},
   "outputs": [
    {
     "data": {
      "text/plain": [
       "(6173903, 10)"
      ]
     },
     "execution_count": 50,
     "metadata": {},
     "output_type": "execute_result"
    }
   ],
   "source": [
    "df_filtered.shape"
   ]
  },
  {
   "cell_type": "code",
   "execution_count": 51,
   "id": "e7c24b53",
   "metadata": {},
   "outputs": [],
   "source": [
    "# Convert to Pandas for plotting\n",
    "class_counts_pd = class_counts.to_pandas()\n",
    "\n",
    "# Extract labels and values for plotting\n",
    "labels = class_counts_pd[\"activity\"]\n",
    "counts = class_counts_pd[\"count\"]"
   ]
  },
  {
   "cell_type": "code",
   "execution_count": 52,
   "id": "05c2c28e",
   "metadata": {},
   "outputs": [
    {
     "data": {
      "image/png": "[encoded data removed]",
      "text/plain": [
       "<Figure size 800x800 with 1 Axes>"
      ]
     },
     "metadata": {},
     "output_type": "display_data"
    }
   ],
   "source": [
    "# Plot the class distribution as a pie chart\n",
    "plt.figure(figsize=(8, 8))\n",
    "plt.pie(\n",
    "    counts,\n",
    "    labels=labels,\n",
    "    autopct=\"%1.1f%%\",\n",
    "    startangle=140,\n",
    "    colors=plt.cm.Paired.colors\n",
    ")\n",
    "plt.title(\"Class Imbalance in Target Column\")\n",
    "plt.show()"
   ]
  },
  {
   "cell_type": "code",
   "execution_count": 53,
   "id": "b709aec0",
   "metadata": {},
   "outputs": [
    {
     "data": {
      "image/png": "[encoded data removed]",
      "text/plain": [
       "<Figure size 1000x600 with 1 Axes>"
      ]
     },
     "metadata": {},
     "output_type": "display_data"
    }
   ],
   "source": [
    "# Count occurrences of each activity\n",
    "class_counts = df_filtered.group_by(\"activity\").agg(\n",
    "    pl.col(\"activity\").count().alias(\"count\")\n",
    ")\n",
    "\n",
    "# Convert to Pandas for plotting\n",
    "class_counts_pd = class_counts.to_pandas()\n",
    "\n",
    "# Extract labels and counts\n",
    "labels = class_counts_pd[\"activity\"]\n",
    "counts = class_counts_pd[\"count\"]\n",
    "\n",
    "# Plot the bar chart\n",
    "plt.figure(figsize=(10, 6))\n",
    "plt.bar(labels, counts, color=\"skyblue\", edgecolor=\"black\")\n",
    "\n",
    "# Rotate and align x-axis labels\n",
    "plt.xlabel(\"Activity\")\n",
    "plt.ylabel(\"Count\")\n",
    "plt.title(\"Activity Count Distribution\")\n",
    "\n",
    "# Rotate labels and align them to the right\n",
    "plt.xticks(rotation=45, ha=\"right\")\n",
    "\n",
    "# Automatically adjust subplot to fit the labels\n",
    "plt.tight_layout()\n",
    "\n",
    "plt.show()"
   ]
  },
  {
   "cell_type": "code",
   "execution_count": 54,
   "id": "5b1ec317",
   "metadata": {},
   "outputs": [
    {
     "name": "stdout",
     "output_type": "stream",
     "text": [
      "\n",
      "Minimum records per class for safe sampling: 78073\n",
      "\n",
      "Stratified Sampled DataFrame with Class Balance:\n",
      "shape: (1_327_241, 10)\n",
      "┌──────────┬────────────┬───────────┬───────────┬───┬───────────┬───────────┬──────────┬───────────┐\n",
      "│ time_acc ┆ acc_x      ┆ acc_y     ┆ acc_z     ┆ … ┆ gyro_y    ┆ gyro_z    ┆ activity ┆ source_fi │\n",
      "│ ---      ┆ ---        ┆ ---       ┆ ---       ┆   ┆ ---       ┆ ---       ┆ ---      ┆ le        │\n",
      "│ f64      ┆ f64        ┆ f64       ┆ f64       ┆   ┆ f64       ┆ f64       ┆ str      ┆ ---       │\n",
      "│          ┆            ┆           ┆           ┆   ┆           ┆           ┆          ┆ str       │\n",
      "╞══════════╪════════════╪═══════════╪═══════════╪═══╪═══════════╪═══════════╪══════════╪═══════════╡\n",
      "│ 8.699    ┆ -0.454854  ┆ 0.6453266 ┆ -2.663621 ┆ … ┆ 2.1916955 ┆ 0.404828  ┆ Sit-up   ┆ 1101_K_16 │\n",
      "│          ┆            ┆           ┆           ┆   ┆           ┆           ┆          ┆ .csv      │\n",
      "│ 1.17     ┆ -0.715491  ┆ 0.177026  ┆ -0.055111 ┆ … ┆ -3.131422 ┆ 0.1394763 ┆ Sit-up   ┆ 1018_K_2. │\n",
      "│          ┆            ┆           ┆           ┆   ┆           ┆           ┆          ┆ csv       │\n",
      "│ 51.627   ┆ -0.92442   ┆ 0.3887904 ┆ -0.139129 ┆ … ┆ 0.8832744 ┆ 0.24091   ┆ Sit-up   ┆ 1101_K_15 │\n",
      "│          ┆            ┆           ┆           ┆   ┆           ┆           ┆          ┆ .csv      │\n",
      "│ 40.907   ┆ 0.045355   ┆ -0.249042 ┆ -1.602414 ┆ … ┆ 0.7352394 ┆ 0.06199   ┆ Sit-up   ┆ 1101_K_14 │\n",
      "│          ┆            ┆           ┆           ┆   ┆           ┆           ┆          ┆ .csv      │\n",
      "│ 32.205   ┆ 1.5490279  ┆ 0.9468011 ┆ -0.363429 ┆ … ┆ -0.364474 ┆ 0.024678  ┆ Sit-up   ┆ 1101_K_24 │\n",
      "│          ┆            ┆           ┆           ┆   ┆           ┆           ┆          ┆ .csv      │\n",
      "│ …        ┆ …          ┆ …         ┆ …         ┆ … ┆ …         ┆ …         ┆ …        ┆ …         │\n",
      "│ 3.974    ┆ 5.6204195  ┆ -0.314597 ┆ -5.414163 ┆ … ┆ 0.196911  ┆ -0.057042 ┆ Jump     ┆ 1058_I_2. │\n",
      "│          ┆            ┆           ┆           ┆   ┆           ┆           ┆          ┆ csv       │\n",
      "│ 13.69    ┆ -4.818765  ┆ -0.44283  ┆ -1.311346 ┆ … ┆ -1.069772 ┆ -0.020049 ┆ Jump     ┆ 1014_I_1. │\n",
      "│          ┆            ┆           ┆           ┆   ┆           ┆           ┆          ┆ csv       │\n",
      "│ 11.515   ┆ 5.161085   ┆ -0.819557 ┆ -6.025399 ┆ … ┆ 1.3074478 ┆ -0.022131 ┆ Jump     ┆ 1074_I_2. │\n",
      "│          ┆            ┆           ┆           ┆   ┆           ┆           ┆          ┆ csv       │\n",
      "│ 13.329   ┆ -10.315687 ┆ 0.523345  ┆ 0.086021  ┆ … ┆ -0.983704 ┆ -0.136566 ┆ Jump     ┆ 1021_I_1. │\n",
      "│          ┆            ┆           ┆           ┆   ┆           ┆           ┆          ┆ csv       │\n",
      "│ 0.586    ┆ 0.070316   ┆ -0.960335 ┆ 1.5566283 ┆ … ┆ 0.275144  ┆ -0.149626 ┆ Jump     ┆ 1025_I_1. │\n",
      "│          ┆            ┆           ┆           ┆   ┆           ┆           ┆          ┆ csv       │\n",
      "└──────────┴────────────┴───────────┴───────────┴───┴───────────┴───────────┴──────────┴───────────┘\n"
     ]
    }
   ],
   "source": [
    "# Define the number of records to sample per class (e.g., minimum class size or desired number)\n",
    "min_count = class_counts.select(\"count\").min()[0, 0]\n",
    "print(f\"\\nMinimum records per class for safe sampling: {min_count}\")\n",
    "\n",
    "# Stratified sampling with safe check to avoid errors\n",
    "df_balanced = pl.concat(\n",
    "    [\n",
    "        df_filtered.filter(pl.col(\"activity\") == activity)\n",
    "        .sample(n=min(min_count, df_filtered.filter(pl.col(\"activity\") == activity).height), seed=42)\n",
    "        for activity in df_filtered.select(\"activity\").unique().to_series().to_list()\n",
    "    ]\n",
    ")\n",
    "\n",
    "print(\"\\nStratified Sampled DataFrame with Class Balance:\")\n",
    "print(df_balanced)"
   ]
  },
  {
   "cell_type": "code",
   "execution_count": 72,
   "id": "0f205742",
   "metadata": {},
   "outputs": [
    {
     "name": "stdout",
     "output_type": "stream",
     "text": [
      "Original Size: (1327241, 10)\n",
      "Sampled Size: (265448, 10)\n"
     ]
    }
   ],
   "source": [
    "#further reducing the dataset size\n",
    "# Sample 50% of the dataset\n",
    "df_balanced_sampled = df_balanced.sample(fraction=0.20, seed=42)\n",
    "\n",
    "# Check the size of the new DataFrame\n",
    "print(f\"Original Size: {df_balanced.shape}\")\n",
    "print(f\"Sampled Size: {df_balanced_sampled.shape}\")"
   ]
  },
  {
   "cell_type": "code",
   "execution_count": 73,
   "id": "a1f25998",
   "metadata": {},
   "outputs": [
    {
     "data": {
      "image/png": "[encoded data removed]",
      "text/plain": [
       "<Figure size 1000x600 with 1 Axes>"
      ]
     },
     "metadata": {},
     "output_type": "display_data"
    }
   ],
   "source": [
    "# Count occurrences of each activity\n",
    "class_counts = df_balanced_sampled.group_by(\"activity\").agg(\n",
    "    pl.col(\"activity\").count().alias(\"count\")\n",
    ")\n",
    "\n",
    "# Convert to Pandas for plotting\n",
    "class_counts_pd = class_counts.to_pandas()\n",
    "\n",
    "# Extract labels and counts\n",
    "labels = class_counts_pd[\"activity\"]\n",
    "counts = class_counts_pd[\"count\"]\n",
    "\n",
    "# Plot the bar chart\n",
    "plt.figure(figsize=(10, 6))\n",
    "plt.bar(labels, counts, color=\"skyblue\", edgecolor=\"black\")\n",
    "\n",
    "# Rotate and align x-axis labels\n",
    "plt.xlabel(\"Activity\")\n",
    "plt.ylabel(\"Count\")\n",
    "plt.title(\"Activity Count Distribution\")\n",
    "\n",
    "# Rotate labels and align them to the right\n",
    "plt.xticks(rotation=45, ha=\"right\")\n",
    "\n",
    "# Automatically adjust subplot to fit the labels\n",
    "plt.tight_layout()\n",
    "\n",
    "plt.show()"
   ]
  },
  {
   "cell_type": "code",
   "execution_count": 74,
   "id": "cee99a71",
   "metadata": {},
   "outputs": [
    {
     "name": "stdout",
     "output_type": "stream",
     "text": [
      "shape: (265_448, 8)\n",
      "┌──────────┬───────────┬───────────┬───────────┬───────────┬───────────┬───────────┬───────────┐\n",
      "│ time_acc ┆ acc_x     ┆ acc_y     ┆ acc_z     ┆ time_gyro ┆ gyro_x    ┆ gyro_y    ┆ gyro_z    │\n",
      "│ ---      ┆ ---       ┆ ---       ┆ ---       ┆ ---       ┆ ---       ┆ ---       ┆ ---       │\n",
      "│ f64      ┆ f64       ┆ f64       ┆ f64       ┆ f64       ┆ f64       ┆ f64       ┆ f64       │\n",
      "╞══════════╪═══════════╪═══════════╪═══════════╪═══════════╪═══════════╪═══════════╪═══════════╡\n",
      "│ 40.018   ┆ -0.002449 ┆ 0.018319  ┆ -0.046574 ┆ 40.018    ┆ 0.005768  ┆ 0.008621  ┆ 0.001892  │\n",
      "│ 14.905   ┆ -1.421729 ┆ -0.288914 ┆ -1.42602  ┆ 14.905    ┆ 0.110565  ┆ 0.7563629 ┆ -0.049484 │\n",
      "│ 15.714   ┆ 0.432519  ┆ 0.3356667 ┆ -0.71248  ┆ 15.713    ┆ 0.021741  ┆ 0.4387784 ┆ -0.031942 │\n",
      "│ 4.896    ┆ -0.001434 ┆ -0.013773 ┆ 0.028534  ┆ 4.897     ┆ -0.000702 ┆ 0.003505  ┆ -0.001911 │\n",
      "│ 10.824   ┆ -1.059725 ┆ -1.938192 ┆ 0.8397287 ┆ 10.825    ┆ 0.3181    ┆ 0.479874  ┆ 0.32756   │\n",
      "│ …        ┆ …         ┆ …         ┆ …         ┆ …         ┆ …         ┆ …         ┆ …         │\n",
      "│ 13.791   ┆ 0.000711  ┆ 0.151685  ┆ 0.7550237 ┆ 13.78     ┆ -0.932858 ┆ 0.510457  ┆ 0.287992  │\n",
      "│ 9.098    ┆ -0.43254  ┆ -0.175455 ┆ 1.2469568 ┆ 9.097     ┆ -0.509965 ┆ -0.034608 ┆ -0.295378 │\n",
      "│ 51.488   ┆ 0.000465  ┆ 0.01215   ┆ 0.083631  ┆ 51.508    ┆ 0.006408  ┆ 0.003732  ┆ 0.009749  │\n",
      "│ 4.161    ┆ -0.623516 ┆ -0.434303 ┆ 0.165081  ┆ 4.162     ┆ -0.101586 ┆ 0.643789  ┆ -0.123331 │\n",
      "│ 16.076   ┆ 2.591467  ┆ -0.995079 ┆ -0.667205 ┆ 16.076    ┆ 0.281823  ┆ -0.022943 ┆ -1.391691 │\n",
      "└──────────┴───────────┴───────────┴───────────┴───────────┴───────────┴───────────┴───────────┘\n"
     ]
    }
   ],
   "source": [
    "# Drop specific columns\n",
    "columns_to_drop = [\"activity\", \"source_file\"]\n",
    "df_trimmed = df_balanced_sampled.drop(columns_to_drop)\n",
    "print(df_trimmed)"
   ]
  },
  {
   "cell_type": "code",
   "execution_count": 75,
   "id": "9ae117d8",
   "metadata": {},
   "outputs": [
    {
     "name": "stdout",
     "output_type": "stream",
     "text": [
      "['time_acc', 'acc_x', 'acc_y', 'acc_z', 'time_gyro', 'gyro_x', 'gyro_y', 'gyro_z']\n"
     ]
    }
   ],
   "source": [
    "\n",
    "# Check column names\n",
    "print(df_trimmed.columns)"
   ]
  },
  {
   "cell_type": "code",
   "execution_count": 77,
   "id": "a40ab85d",
   "metadata": {},
   "outputs": [
    {
     "name": "stdout",
     "output_type": "stream",
     "text": [
      "\n",
      "DataFrame with Replaced Scaled Columns:\n",
      "shape: (265_448, 10)\n",
      "┌──────────┬──────────┬──────────┬──────────┬───┬──────────┬──────────┬──────────────┬─────────────┐\n",
      "│ time_acc ┆ acc_x    ┆ acc_y    ┆ acc_z    ┆ … ┆ gyro_y   ┆ gyro_z   ┆ activity     ┆ source_file │\n",
      "│ ---      ┆ ---      ┆ ---      ┆ ---      ┆   ┆ ---      ┆ ---      ┆ ---          ┆ ---         │\n",
      "│ f64      ┆ f64      ┆ f64      ┆ f64      ┆   ┆ f64      ┆ f64      ┆ str          ┆ str         │\n",
      "╞══════════╪══════════╪══════════╪══════════╪═══╪══════════╪══════════╪══════════════╪═════════════╡\n",
      "│ 0.27071  ┆ 0.43355  ┆ 0.518796 ┆ 0.483047 ┆ … ┆ 0.468481 ┆ 0.517039 ┆ Stand        ┆ 1016_A_1.cs │\n",
      "│          ┆          ┆          ┆          ┆   ┆          ┆          ┆              ┆ v           │\n",
      "│ 0.100828 ┆ 0.422196 ┆ 0.515592 ┆ 0.469061 ┆ … ┆ 0.473554 ┆ 0.5167   ┆ Stand-sit    ┆ 1013_E_3_0. │\n",
      "│          ┆          ┆          ┆          ┆   ┆          ┆          ┆              ┆ csv         │\n",
      "│ 0.106301 ┆ 0.437029 ┆ 0.522105 ┆ 0.476295 ┆ … ┆ 0.471399 ┆ 0.516816 ┆ Stand-sit    ┆ 1066_E_1.cs │\n",
      "│          ┆          ┆          ┆          ┆   ┆          ┆          ┆              ┆ v           │\n",
      "│ 0.03312  ┆ 0.433558 ┆ 0.518461 ┆ 0.483808 ┆ … ┆ 0.468446 ┆ 0.517014 ┆ Sit          ┆ 1018_B_1.cs │\n",
      "│          ┆          ┆          ┆          ┆   ┆          ┆          ┆              ┆ v           │\n",
      "│ 0.073221 ┆ 0.425092 ┆ 0.498394 ┆ 0.492033 ┆ … ┆ 0.471678 ┆ 0.519189 ┆ Pick         ┆ 1002_H_7.cs │\n",
      "│          ┆          ┆          ┆          ┆   ┆          ┆          ┆              ┆ v           │\n",
      "│ …        ┆ …        ┆ …        ┆ …        ┆ … ┆ …        ┆ …        ┆ …            ┆ …           │\n",
      "│ 0.093292 ┆ 0.433575 ┆ 0.520186 ┆ 0.491174 ┆ … ┆ 0.471886 ┆ 0.518927 ┆ Stair-up     ┆ 1040_S_1.cs │\n",
      "│          ┆          ┆          ┆          ┆   ┆          ┆          ┆              ┆ v           │\n",
      "│ 0.061545 ┆ 0.430109 ┆ 0.516775 ┆ 0.496162 ┆ … ┆ 0.468187 ┆ 0.515077 ┆ Walk-backwar ┆ 1049_M_1.cs │\n",
      "│          ┆          ┆          ┆          ┆   ┆          ┆          ┆ ds           ┆ v           │\n",
      "│ 0.348301 ┆ 0.433573 ┆ 0.518731 ┆ 0.484367 ┆ … ┆ 0.468447 ┆ 0.517091 ┆ Talk-sit     ┆ 1014_C_1.cs │\n",
      "│          ┆          ┆          ┆          ┆   ┆          ┆          ┆              ┆ v           │\n",
      "│ 0.028148 ┆ 0.428582 ┆ 0.514076 ┆ 0.485193 ┆ … ┆ 0.47279  ┆ 0.516212 ┆ Push-up      ┆ 1074_J_1.cs │\n",
      "│          ┆          ┆          ┆          ┆   ┆          ┆          ┆              ┆ v           │\n",
      "│ 0.108749 ┆ 0.4543   ┆ 0.508228 ┆ 0.476754 ┆ … ┆ 0.468266 ┆ 0.50784  ┆ Stair-up     ┆ 1101_S_13.c │\n",
      "│          ┆          ┆          ┆          ┆   ┆          ┆          ┆              ┆ sv          │\n",
      "└──────────┴──────────┴──────────┴──────────┴───┴──────────┴──────────┴──────────────┴─────────────┘\n"
     ]
    }
   ],
   "source": [
    "# List of columns to scale\n",
    "columns_to_scale = ['time_acc', 'acc_x', 'acc_y', 'acc_z', 'time_gyro', 'gyro_x', 'gyro_y', 'gyro_z']\n",
    "\n",
    "\n",
    "# Replace original columns with scaled values\n",
    "# Apply Min-Max Scaling\n",
    "df_scaled_replaced = df_balanced_sampled.with_columns(\n",
    "    [((pl.col(col) - pl.col(col).min()) / (pl.col(col).max() - pl.col(col).min())).alias(col)\n",
    "     for col in columns_to_scale]\n",
    ")\n",
    "\n",
    "print(\"\\nDataFrame with Replaced Scaled Columns:\")\n",
    "print(df_scaled_replaced)"
   ]
  },
  {
   "cell_type": "code",
   "execution_count": 78,
   "id": "e9118064",
   "metadata": {},
   "outputs": [
    {
     "name": "stdout",
     "output_type": "stream",
     "text": [
      "\n",
      "Correlation Matrix:\n",
      "           time_acc     acc_x     acc_y     acc_z  time_gyro    gyro_x  \\\n",
      "time_acc   1.000000  0.002813 -0.034140  0.002451   0.999948 -0.003073   \n",
      "acc_x      0.002813  1.000000 -0.066991  0.162571   0.002814  0.048953   \n",
      "acc_y     -0.034140 -0.066991  1.000000 -0.002998  -0.034164 -0.055247   \n",
      "acc_z      0.002451  0.162571 -0.002998  1.000000   0.002436 -0.007390   \n",
      "time_gyro  0.999948  0.002814 -0.034164  0.002436   1.000000 -0.003085   \n",
      "gyro_x    -0.003073  0.048953 -0.055247 -0.007390  -0.003085  1.000000   \n",
      "gyro_y     0.007135 -0.069180 -0.118482  0.014416   0.007142 -0.071754   \n",
      "gyro_z     0.003873 -0.106191  0.032764 -0.042298   0.003874 -0.646613   \n",
      "\n",
      "             gyro_y    gyro_z  \n",
      "time_acc   0.007135  0.003873  \n",
      "acc_x     -0.069180 -0.106191  \n",
      "acc_y     -0.118482  0.032764  \n",
      "acc_z      0.014416 -0.042298  \n",
      "time_gyro  0.007142  0.003874  \n",
      "gyro_x    -0.071754 -0.646613  \n",
      "gyro_y     1.000000  0.019013  \n",
      "gyro_z     0.019013  1.000000  \n"
     ]
    }
   ],
   "source": [
    "# Convert Polars DataFrame to Pandas for easier correlation\n",
    "df_pandas = df_trimmed.to_pandas()\n",
    "\n",
    "# Compute correlation matrix\n",
    "correlation_matrix = df_pandas.corr()\n",
    "\n",
    "print(\"\\nCorrelation Matrix:\")\n",
    "print(correlation_matrix)"
   ]
  },
  {
   "cell_type": "code",
   "execution_count": 79,
   "id": "402d6c1e",
   "metadata": {},
   "outputs": [
    {
     "data": {
      "image/png": "[encoded data removed]",
      "text/plain": [
       "<Figure size 800x600 with 2 Axes>"
      ]
     },
     "metadata": {},
     "output_type": "display_data"
    }
   ],
   "source": [
    "# Plot correlation matrix as heatmap\n",
    "plt.figure(figsize=(8, 6))\n",
    "sns.heatmap(correlation_matrix, annot=True, cmap=\"coolwarm\", fmt=\".2f\", linewidths=0.5)\n",
    "plt.title(\"Correlation Matrix Heatmap\")\n",
    "plt.show()"
   ]
  },
  {
   "cell_type": "code",
   "execution_count": 80,
   "id": "a96c0bf6",
   "metadata": {},
   "outputs": [
    {
     "name": "stdout",
     "output_type": "stream",
     "text": [
      "\n",
      "Columns to drop due to high correlation: {'time_gyro'}\n",
      "\n",
      "DataFrame after dropping highly correlated columns:\n",
      "shape: (265_448, 9)\n",
      "┌──────────┬──────────┬──────────┬──────────┬───┬──────────┬──────────┬──────────────┬─────────────┐\n",
      "│ time_acc ┆ acc_x    ┆ acc_y    ┆ acc_z    ┆ … ┆ gyro_y   ┆ gyro_z   ┆ activity     ┆ source_file │\n",
      "│ ---      ┆ ---      ┆ ---      ┆ ---      ┆   ┆ ---      ┆ ---      ┆ ---          ┆ ---         │\n",
      "│ f64      ┆ f64      ┆ f64      ┆ f64      ┆   ┆ f64      ┆ f64      ┆ str          ┆ str         │\n",
      "╞══════════╪══════════╪══════════╪══════════╪═══╪══════════╪══════════╪══════════════╪═════════════╡\n",
      "│ 0.27071  ┆ 0.43355  ┆ 0.518796 ┆ 0.483047 ┆ … ┆ 0.468481 ┆ 0.517039 ┆ Stand        ┆ 1016_A_1.cs │\n",
      "│          ┆          ┆          ┆          ┆   ┆          ┆          ┆              ┆ v           │\n",
      "│ 0.100828 ┆ 0.422196 ┆ 0.515592 ┆ 0.469061 ┆ … ┆ 0.473554 ┆ 0.5167   ┆ Stand-sit    ┆ 1013_E_3_0. │\n",
      "│          ┆          ┆          ┆          ┆   ┆          ┆          ┆              ┆ csv         │\n",
      "│ 0.106301 ┆ 0.437029 ┆ 0.522105 ┆ 0.476295 ┆ … ┆ 0.471399 ┆ 0.516816 ┆ Stand-sit    ┆ 1066_E_1.cs │\n",
      "│          ┆          ┆          ┆          ┆   ┆          ┆          ┆              ┆ v           │\n",
      "│ 0.03312  ┆ 0.433558 ┆ 0.518461 ┆ 0.483808 ┆ … ┆ 0.468446 ┆ 0.517014 ┆ Sit          ┆ 1018_B_1.cs │\n",
      "│          ┆          ┆          ┆          ┆   ┆          ┆          ┆              ┆ v           │\n",
      "│ 0.073221 ┆ 0.425092 ┆ 0.498394 ┆ 0.492033 ┆ … ┆ 0.471678 ┆ 0.519189 ┆ Pick         ┆ 1002_H_7.cs │\n",
      "│          ┆          ┆          ┆          ┆   ┆          ┆          ┆              ┆ v           │\n",
      "│ …        ┆ …        ┆ …        ┆ …        ┆ … ┆ …        ┆ …        ┆ …            ┆ …           │\n",
      "│ 0.093292 ┆ 0.433575 ┆ 0.520186 ┆ 0.491174 ┆ … ┆ 0.471886 ┆ 0.518927 ┆ Stair-up     ┆ 1040_S_1.cs │\n",
      "│          ┆          ┆          ┆          ┆   ┆          ┆          ┆              ┆ v           │\n",
      "│ 0.061545 ┆ 0.430109 ┆ 0.516775 ┆ 0.496162 ┆ … ┆ 0.468187 ┆ 0.515077 ┆ Walk-backwar ┆ 1049_M_1.cs │\n",
      "│          ┆          ┆          ┆          ┆   ┆          ┆          ┆ ds           ┆ v           │\n",
      "│ 0.348301 ┆ 0.433573 ┆ 0.518731 ┆ 0.484367 ┆ … ┆ 0.468447 ┆ 0.517091 ┆ Talk-sit     ┆ 1014_C_1.cs │\n",
      "│          ┆          ┆          ┆          ┆   ┆          ┆          ┆              ┆ v           │\n",
      "│ 0.028148 ┆ 0.428582 ┆ 0.514076 ┆ 0.485193 ┆ … ┆ 0.47279  ┆ 0.516212 ┆ Push-up      ┆ 1074_J_1.cs │\n",
      "│          ┆          ┆          ┆          ┆   ┆          ┆          ┆              ┆ v           │\n",
      "│ 0.108749 ┆ 0.4543   ┆ 0.508228 ┆ 0.476754 ┆ … ┆ 0.468266 ┆ 0.50784  ┆ Stair-up     ┆ 1101_S_13.c │\n",
      "│          ┆          ┆          ┆          ┆   ┆          ┆          ┆              ┆ sv          │\n",
      "└──────────┴──────────┴──────────┴──────────┴───┴──────────┴──────────┴──────────────┴─────────────┘\n"
     ]
    }
   ],
   "source": [
    "#time_gyro & time_acc are having very high corelation as can be seen from heatmap , hence we can drop any one of them for the dataset\n",
    "\n",
    "# Compute correlation matrix\n",
    "correlation_matrix = df_pandas.corr().abs()\n",
    "\n",
    "# Define correlation threshold\n",
    "correlation_threshold = 0.9\n",
    "\n",
    "# Identify columns to drop based on high correlation\n",
    "to_drop = set()\n",
    "for i in range(len(correlation_matrix.columns)):\n",
    "    for j in range(i + 1, len(correlation_matrix.columns)):\n",
    "        if correlation_matrix.iloc[i, j] > correlation_threshold:\n",
    "            colname = correlation_matrix.columns[j]\n",
    "            to_drop.add(colname)\n",
    "\n",
    "print(f\"\\nColumns to drop due to high correlation: {to_drop}\")\n",
    "\n",
    "# Drop high-correlation columns in Polars\n",
    "df_scaled_cleaned = df_scaled_replaced.drop(list(to_drop))\n",
    "\n",
    "print(\"\\nDataFrame after dropping highly correlated columns:\")\n",
    "print(df_scaled_cleaned)"
   ]
  },
  {
   "cell_type": "code",
   "execution_count": 81,
   "id": "da628ffe",
   "metadata": {},
   "outputs": [],
   "source": [
    "df_scaled_cleaned=df_scaled_cleaned.drop('source_file')"
   ]
  },
  {
   "cell_type": "code",
   "execution_count": 82,
   "id": "3fce57bd",
   "metadata": {},
   "outputs": [
    {
     "data": {
      "text/html": [
       "<div><style>\n",
       ".dataframe > thead > tr,\n",
       ".dataframe > tbody > tr {\n",
       "  text-align: right;\n",
       "  white-space: pre-wrap;\n",
       "}\n",
       "</style>\n",
       "<small>shape: (5, 8)</small><table border=\"1\" class=\"dataframe\"><thead><tr><th>time_acc</th><th>acc_x</th><th>acc_y</th><th>acc_z</th><th>gyro_x</th><th>gyro_y</th><th>gyro_z</th><th>activity</th></tr><tr><td>f64</td><td>f64</td><td>f64</td><td>f64</td><td>f64</td><td>f64</td><td>f64</td><td>str</td></tr></thead><tbody><tr><td>0.27071</td><td>0.43355</td><td>0.518796</td><td>0.483047</td><td>0.495245</td><td>0.468481</td><td>0.517039</td><td>&quot;Stand&quot;</td></tr><tr><td>0.100828</td><td>0.422196</td><td>0.515592</td><td>0.469061</td><td>0.495792</td><td>0.473554</td><td>0.5167</td><td>&quot;Stand-sit&quot;</td></tr><tr><td>0.106301</td><td>0.437029</td><td>0.522105</td><td>0.476295</td><td>0.495328</td><td>0.471399</td><td>0.516816</td><td>&quot;Stand-sit&quot;</td></tr><tr><td>0.03312</td><td>0.433558</td><td>0.518461</td><td>0.483808</td><td>0.495211</td><td>0.468446</td><td>0.517014</td><td>&quot;Sit&quot;</td></tr><tr><td>0.073221</td><td>0.425092</td><td>0.498394</td><td>0.492033</td><td>0.496876</td><td>0.471678</td><td>0.519189</td><td>&quot;Pick&quot;</td></tr></tbody></table></div>"
      ],
      "text/plain": [
       "shape: (5, 8)\n",
       "┌──────────┬──────────┬──────────┬──────────┬──────────┬──────────┬──────────┬───────────┐\n",
       "│ time_acc ┆ acc_x    ┆ acc_y    ┆ acc_z    ┆ gyro_x   ┆ gyro_y   ┆ gyro_z   ┆ activity  │\n",
       "│ ---      ┆ ---      ┆ ---      ┆ ---      ┆ ---      ┆ ---      ┆ ---      ┆ ---       │\n",
       "│ f64      ┆ f64      ┆ f64      ┆ f64      ┆ f64      ┆ f64      ┆ f64      ┆ str       │\n",
       "╞══════════╪══════════╪══════════╪══════════╪══════════╪══════════╪══════════╪═══════════╡\n",
       "│ 0.27071  ┆ 0.43355  ┆ 0.518796 ┆ 0.483047 ┆ 0.495245 ┆ 0.468481 ┆ 0.517039 ┆ Stand     │\n",
       "│ 0.100828 ┆ 0.422196 ┆ 0.515592 ┆ 0.469061 ┆ 0.495792 ┆ 0.473554 ┆ 0.5167   ┆ Stand-sit │\n",
       "│ 0.106301 ┆ 0.437029 ┆ 0.522105 ┆ 0.476295 ┆ 0.495328 ┆ 0.471399 ┆ 0.516816 ┆ Stand-sit │\n",
       "│ 0.03312  ┆ 0.433558 ┆ 0.518461 ┆ 0.483808 ┆ 0.495211 ┆ 0.468446 ┆ 0.517014 ┆ Sit       │\n",
       "│ 0.073221 ┆ 0.425092 ┆ 0.498394 ┆ 0.492033 ┆ 0.496876 ┆ 0.471678 ┆ 0.519189 ┆ Pick      │\n",
       "└──────────┴──────────┴──────────┴──────────┴──────────┴──────────┴──────────┴───────────┘"
      ]
     },
     "execution_count": 82,
     "metadata": {},
     "output_type": "execute_result"
    }
   ],
   "source": [
    "df_scaled_cleaned.head()"
   ]
  },
  {
   "cell_type": "code",
   "execution_count": 83,
   "id": "c10534bb",
   "metadata": {},
   "outputs": [],
   "source": [
    "# Split features and target\n",
    "X = df_scaled_cleaned.select(pl.exclude(\"activity\")).to_numpy()  # Select all columns except \"label\"\n",
    "y = df_scaled_cleaned[\"activity\"].to_numpy()  # Target/label column\n",
    "\n"
   ]
  },
  {
   "cell_type": "code",
   "execution_count": 86,
   "id": "098a9f6b",
   "metadata": {},
   "outputs": [],
   "source": [
    "from sklearn.metrics import confusion_matrix\n",
    "from sklearn.model_selection import train_test_split\n",
    "from sklearn.metrics import classification_report, accuracy_score\n",
    "from sklearn.ensemble import RandomForestClassifier"
   ]
  },
  {
   "cell_type": "code",
   "execution_count": 87,
   "id": "e498065b",
   "metadata": {},
   "outputs": [
    {
     "name": "stdout",
     "output_type": "stream",
     "text": [
      "Shape of X_train: (185813, 7), Shape of y_train: (185813,)\n",
      "Shape of X_test: (79635, 7), Shape of y_test: (79635,)\n"
     ]
    }
   ],
   "source": [
    "# Split data into train and test sets\n",
    "X_train, X_test, y_train, y_test = train_test_split(\n",
    "    X, y, test_size=0.3, random_state=42,stratify=y\n",
    ")\n",
    "\n",
    "print(f\"Shape of X_train: {X_train.shape}, Shape of y_train: {y_train.shape}\")\n",
    "print(f\"Shape of X_test: {X_test.shape}, Shape of y_test: {y_test.shape}\")"
   ]
  },
  {
   "cell_type": "code",
   "execution_count": 88,
   "id": "b2660ad1",
   "metadata": {},
   "outputs": [
    {
     "name": "stdout",
     "output_type": "stream",
     "text": [
      "Logistic Regression Model Trained Successfully!\n"
     ]
    }
   ],
   "source": [
    "from sklearn.linear_model import LogisticRegression\n",
    "# Create and train the Logistic Regression model\n",
    "logisticregressionmodel = LogisticRegression(max_iter=1000)\n",
    "logisticregressionmodel.fit(X_train, y_train)\n",
    "\n",
    "print(\"Logistic Regression Model Trained Successfully!\")"
   ]
  },
  {
   "cell_type": "code",
   "execution_count": 89,
   "id": "da449181",
   "metadata": {},
   "outputs": [
    {
     "name": "stdout",
     "output_type": "stream",
     "text": [
      "Logistic Regression Model Accuracy: 0.12\n",
      "\n",
      " Logistic Regression Model Classification Report:\n"
     ]
    },
    {
     "name": "stderr",
     "output_type": "stream",
     "text": [
      "/opt/anaconda3/lib/python3.11/site-packages/sklearn/metrics/_classification.py:1344: UndefinedMetricWarning: Precision and F-score are ill-defined and being set to 0.0 in labels with no predicted samples. Use `zero_division` parameter to control this behavior.\n",
      "  _warn_prf(average, modifier, msg_start, len(result))\n",
      "/opt/anaconda3/lib/python3.11/site-packages/sklearn/metrics/_classification.py:1344: UndefinedMetricWarning: Precision and F-score are ill-defined and being set to 0.0 in labels with no predicted samples. Use `zero_division` parameter to control this behavior.\n",
      "  _warn_prf(average, modifier, msg_start, len(result))\n"
     ]
    },
    {
     "name": "stdout",
     "output_type": "stream",
     "text": [
      "                precision    recall  f1-score   support\n",
      "\n",
      "          Jump       0.14      0.20      0.16      4720\n",
      "           Lay       0.09      0.05      0.07      4711\n",
      "     Lay-stand       0.08      0.05      0.07      4636\n",
      "          Pick       0.08      0.05      0.06      4688\n",
      "       Push-up       0.13      0.30      0.18      4668\n",
      "           Run       0.11      0.11      0.11      4718\n",
      "           Sit       0.15      0.47      0.23      4698\n",
      "        Sit-up       0.13      0.03      0.04      4623\n",
      "    Stair-down       0.13      0.07      0.10      4689\n",
      "      Stair-up       0.05      0.03      0.04      4682\n",
      "         Stand       0.12      0.09      0.10      4709\n",
      "     Stand-sit       0.13      0.03      0.05      4690\n",
      "      Talk-sit       0.00      0.00      0.00      4668\n",
      "    Talk-stand       0.10      0.04      0.06      4652\n",
      "          Walk       0.10      0.26      0.14      4660\n",
      "Walk-backwards       0.08      0.08      0.08      4711\n",
      "   Walk-circle       0.22      0.23      0.22      4712\n",
      "\n",
      "      accuracy                           0.12     79635\n",
      "     macro avg       0.11      0.12      0.10     79635\n",
      "  weighted avg       0.11      0.12      0.10     79635\n",
      "\n"
     ]
    },
    {
     "name": "stderr",
     "output_type": "stream",
     "text": [
      "/opt/anaconda3/lib/python3.11/site-packages/sklearn/metrics/_classification.py:1344: UndefinedMetricWarning: Precision and F-score are ill-defined and being set to 0.0 in labels with no predicted samples. Use `zero_division` parameter to control this behavior.\n",
      "  _warn_prf(average, modifier, msg_start, len(result))\n"
     ]
    }
   ],
   "source": [
    "# Make predictions\n",
    "y_pred = logisticregressionmodel.predict(X_test)\n",
    "\n",
    "# Evaluate model\n",
    "accuracy = accuracy_score(y_test, y_pred)\n",
    "print(f\"Logistic Regression Model Accuracy: {accuracy:.2f}\")\n",
    "print(\"\\n Logistic Regression Model Classification Report:\")\n",
    "print(classification_report(y_test, y_pred))"
   ]
  },
  {
   "cell_type": "code",
   "execution_count": 90,
   "id": "8461c3db",
   "metadata": {},
   "outputs": [
    {
     "name": "stdout",
     "output_type": "stream",
     "text": [
      "Random Forest Model Trained Successfully!\n"
     ]
    }
   ],
   "source": [
    "# Create and train the Random Forest model\n",
    "randomforestmodel = RandomForestClassifier(n_estimators=100, random_state=42)\n",
    "randomforestmodel.fit(X_train, y_train)\n",
    "\n",
    "print(\"Random Forest Model Trained Successfully!\")"
   ]
  },
  {
   "cell_type": "code",
   "execution_count": 91,
   "id": "b69fc581",
   "metadata": {},
   "outputs": [
    {
     "name": "stdout",
     "output_type": "stream",
     "text": [
      " Random Forest Model Accuracy: 0.56\n",
      "\n",
      " Random Forest Model Classification Report:\n",
      "                precision    recall  f1-score   support\n",
      "\n",
      "          Jump       0.71      0.60      0.65      4720\n",
      "           Lay       0.66      0.57      0.61      4711\n",
      "     Lay-stand       0.56      0.45      0.50      4636\n",
      "          Pick       0.40      0.32      0.36      4688\n",
      "       Push-up       0.54      0.64      0.59      4668\n",
      "           Run       0.78      0.78      0.78      4718\n",
      "           Sit       0.57      0.70      0.63      4698\n",
      "        Sit-up       0.62      0.56      0.59      4623\n",
      "    Stair-down       0.56      0.43      0.48      4689\n",
      "      Stair-up       0.50      0.42      0.45      4682\n",
      "         Stand       0.56      0.55      0.56      4709\n",
      "     Stand-sit       0.51      0.62      0.56      4690\n",
      "      Talk-sit       0.61      0.64      0.62      4668\n",
      "    Talk-stand       0.62      0.65      0.63      4652\n",
      "          Walk       0.48      0.60      0.53      4660\n",
      "Walk-backwards       0.42      0.47      0.45      4711\n",
      "   Walk-circle       0.54      0.60      0.57      4712\n",
      "\n",
      "      accuracy                           0.56     79635\n",
      "     macro avg       0.57      0.56      0.56     79635\n",
      "  weighted avg       0.57      0.56      0.56     79635\n",
      "\n"
     ]
    }
   ],
   "source": [
    "# Make predictions\n",
    "y_pred = randomforestmodel.predict(X_test)\n",
    "\n",
    "# Evaluate model\n",
    "accuracy = accuracy_score(y_test, y_pred)\n",
    "print(f\" Random Forest Model Accuracy: {accuracy:.2f}\")\n",
    "print(\"\\n Random Forest Model Classification Report:\")\n",
    "print(classification_report(y_test, y_pred))"
   ]
  },
  {
   "cell_type": "code",
   "execution_count": 92,
   "id": "8875acee",
   "metadata": {},
   "outputs": [
    {
     "name": "stdout",
     "output_type": "stream",
     "text": [
      "SVC Model Trained Successfully!\n"
     ]
    }
   ],
   "source": [
    "from sklearn.svm import SVC\n",
    "# Create and train the SVC model\n",
    "\n",
    "svc_model = SVC(kernel='linear', C=1.0, random_state=42)\n",
    "svc_model.fit(X_train, y_train)\n",
    "\n",
    "print(\"SVC Model Trained Successfully!\")"
   ]
  },
  {
   "cell_type": "code",
   "execution_count": 93,
   "id": "3d6ebc41",
   "metadata": {},
   "outputs": [
    {
     "name": "stdout",
     "output_type": "stream",
     "text": [
      "Accuracy: 0.12\n",
      "\n",
      "Classification Report:\n"
     ]
    },
    {
     "name": "stderr",
     "output_type": "stream",
     "text": [
      "/opt/anaconda3/lib/python3.11/site-packages/sklearn/metrics/_classification.py:1344: UndefinedMetricWarning: Precision and F-score are ill-defined and being set to 0.0 in labels with no predicted samples. Use `zero_division` parameter to control this behavior.\n",
      "  _warn_prf(average, modifier, msg_start, len(result))\n",
      "/opt/anaconda3/lib/python3.11/site-packages/sklearn/metrics/_classification.py:1344: UndefinedMetricWarning: Precision and F-score are ill-defined and being set to 0.0 in labels with no predicted samples. Use `zero_division` parameter to control this behavior.\n",
      "  _warn_prf(average, modifier, msg_start, len(result))\n"
     ]
    },
    {
     "name": "stdout",
     "output_type": "stream",
     "text": [
      "                precision    recall  f1-score   support\n",
      "\n",
      "          Jump       0.51      0.04      0.08      4720\n",
      "           Lay       0.13      0.39      0.20      4711\n",
      "     Lay-stand       0.10      0.18      0.13      4636\n",
      "          Pick       0.12      0.03      0.05      4688\n",
      "       Push-up       0.11      0.41      0.18      4668\n",
      "           Run       0.67      0.03      0.05      4718\n",
      "           Sit       0.15      0.08      0.11      4698\n",
      "        Sit-up       0.00      0.00      0.00      4623\n",
      "    Stair-down       0.21      0.05      0.08      4689\n",
      "      Stair-up       0.10      0.10      0.10      4682\n",
      "         Stand       0.13      0.07      0.09      4709\n",
      "     Stand-sit       0.13      0.09      0.10      4690\n",
      "      Talk-sit       0.00      0.00      0.00      4668\n",
      "    Talk-stand       0.03      0.01      0.01      4652\n",
      "          Walk       0.11      0.28      0.16      4660\n",
      "Walk-backwards       0.09      0.11      0.10      4711\n",
      "   Walk-circle       0.18      0.24      0.21      4712\n",
      "\n",
      "      accuracy                           0.12     79635\n",
      "     macro avg       0.16      0.12      0.10     79635\n",
      "  weighted avg       0.16      0.12      0.10     79635\n",
      "\n"
     ]
    },
    {
     "name": "stderr",
     "output_type": "stream",
     "text": [
      "/opt/anaconda3/lib/python3.11/site-packages/sklearn/metrics/_classification.py:1344: UndefinedMetricWarning: Precision and F-score are ill-defined and being set to 0.0 in labels with no predicted samples. Use `zero_division` parameter to control this behavior.\n",
      "  _warn_prf(average, modifier, msg_start, len(result))\n"
     ]
    }
   ],
   "source": [
    "# Make predictions\n",
    "y_pred = svc_model.predict(X_test)\n",
    "\n",
    "# Evaluate model\n",
    "accuracy = accuracy_score(y_test, y_pred)\n",
    "print(f\"Accuracy: {accuracy:.2f}\")\n",
    "print(\"\\nClassification Report:\")\n",
    "print(classification_report(y_test, y_pred))"
   ]
  },
  {
   "cell_type": "code",
   "execution_count": 95,
   "id": "51b4ef68",
   "metadata": {},
   "outputs": [
    {
     "name": "stdout",
     "output_type": "stream",
     "text": [
      "Collecting xgboost\n",
      "  Downloading xgboost-3.0.0-py3-none-macosx_12_0_arm64.whl.metadata (2.1 kB)\n",
      "Requirement already satisfied: numpy in /opt/anaconda3/lib/python3.11/site-packages (from xgboost) (1.26.4)\n",
      "Requirement already satisfied: scipy in /opt/anaconda3/lib/python3.11/site-packages (from xgboost) (1.10.1)\n",
      "Downloading xgboost-3.0.0-py3-none-macosx_12_0_arm64.whl (2.0 MB)\n",
      "\u001b[2K   \u001b[90m━━━━━━━━━━━━━━━━━━━━━━━━━━━━━━━━━━━━━━━━\u001b[0m \u001b[32m2.0/2.0 MB\u001b[0m \u001b[31m2.2 MB/s\u001b[0m eta \u001b[36m0:00:00\u001b[0m00:01\u001b[0m00:01\u001b[0m\n",
      "\u001b[?25hInstalling collected packages: xgboost\n",
      "Successfully installed xgboost-3.0.0\n"
     ]
    }
   ],
   "source": [
    "#!pip install xgboost"
   ]
  },
  {
   "cell_type": "code",
   "execution_count": 97,
   "id": "3f2f82d2",
   "metadata": {},
   "outputs": [],
   "source": [
    "from sklearn.preprocessing import LabelEncoder\n",
    "# Encode target labels (Convert categorical to numeric)\n",
    "encoder = LabelEncoder()\n",
    "y = encoder.fit_transform(y)"
   ]
  },
  {
   "cell_type": "code",
   "execution_count": 99,
   "id": "4a127231",
   "metadata": {},
   "outputs": [],
   "source": [
    "# Split the data into training, validation, and testing sets\n",
    "X_train, X_test, y_train, y_test = train_test_split(X, y, test_size=0.3, random_state=42, stratify=y)"
   ]
  },
  {
   "cell_type": "code",
   "execution_count": 101,
   "id": "36263ccb",
   "metadata": {},
   "outputs": [
    {
     "name": "stdout",
     "output_type": "stream",
     "text": [
      "XGBoost Model Trained Successfully!\n"
     ]
    }
   ],
   "source": [
    "import xgboost as xgb\n",
    "\n",
    "# Create DMatrix for XGBoost (efficient training format)\n",
    "dtrain = xgb.DMatrix(X_train, label=y_train)\n",
    "dtest = xgb.DMatrix(X_test, label=y_test)\n",
    "\n",
    "# Set XGBoost parameters\n",
    "params = {\n",
    "    'objective': 'multi:softmax',  # Multiclass classification\n",
    "    'num_class': len(set(y)),  # Number of classes\n",
    "    'eval_metric': 'mlogloss',  # Log loss for multiclass classification\n",
    "    'max_depth': 6,  # Maximum depth of a tree\n",
    "    'eta': 0.1,  # Learning rate\n",
    "    'gamma': 0.1,  # Minimum loss reduction required for split\n",
    "}\n",
    "\n",
    "# Train the XGBoost model\n",
    "num_rounds = 100  # Number of boosting rounds\n",
    "xgbmodel = xgb.train(params, dtrain, num_boost_round=num_rounds)\n",
    "print(\"XGBoost Model Trained Successfully!\")\n",
    "\n"
   ]
  },
  {
   "cell_type": "code",
   "execution_count": 102,
   "id": "8e1966cc",
   "metadata": {},
   "outputs": [
    {
     "name": "stdout",
     "output_type": "stream",
     "text": [
      "XGBoost Model Accuracy: 0.5242\n",
      "\n",
      "Classification Report:\n",
      "               precision    recall  f1-score   support\n",
      "\n",
      "           0       0.70      0.59      0.64      4720\n",
      "           1       0.66      0.51      0.57      4711\n",
      "           2       0.51      0.40      0.45      4636\n",
      "           3       0.39      0.24      0.29      4688\n",
      "           4       0.48      0.57      0.52      4668\n",
      "           5       0.78      0.74      0.76      4718\n",
      "           6       0.53      0.76      0.63      4698\n",
      "           7       0.60      0.51      0.55      4623\n",
      "           8       0.51      0.39      0.44      4689\n",
      "           9       0.48      0.34      0.40      4682\n",
      "          10       0.55      0.56      0.55      4709\n",
      "          11       0.43      0.64      0.51      4690\n",
      "          12       0.59      0.62      0.61      4668\n",
      "          13       0.58      0.63      0.60      4652\n",
      "          14       0.40      0.53      0.45      4660\n",
      "          15       0.36      0.36      0.36      4711\n",
      "          16       0.46      0.55      0.50      4712\n",
      "\n",
      "    accuracy                           0.52     79635\n",
      "   macro avg       0.53      0.52      0.52     79635\n",
      "weighted avg       0.53      0.52      0.52     79635\n",
      "\n"
     ]
    }
   ],
   "source": [
    "# Make predictions\n",
    "y_pred = xgbmodel.predict(dtest)\n",
    "\n",
    "# Evaluate model \n",
    "accuracy = accuracy_score(y_test, y_pred)\n",
    "print(f\"XGBoost Model Accuracy: {accuracy:.4f}\")\n",
    "print(\"\\nClassification Report:\\n\", classification_report(y_test, y_pred))"
   ]
  },
  {
   "cell_type": "code",
   "execution_count": null,
   "id": "86404c88",
   "metadata": {},
   "outputs": [],
   "source": [
    "#!pip install tensorflow"
   ]
  },
  {
   "cell_type": "code",
   "execution_count": 103,
   "id": "b7df4055",
   "metadata": {},
   "outputs": [
    {
     "name": "stderr",
     "output_type": "stream",
     "text": [
      "/opt/anaconda3/lib/python3.11/site-packages/keras/src/layers/core/dense.py:87: UserWarning: Do not pass an `input_shape`/`input_dim` argument to a layer. When using Sequential models, prefer using an `Input(shape)` object as the first layer in the model instead.\n",
      "  super().__init__(activity_regularizer=activity_regularizer, **kwargs)\n",
      "2025-03-19 22:02:32.894901: I metal_plugin/src/device/metal_device.cc:1154] Metal device set to: Apple M3 Pro\n",
      "2025-03-19 22:02:32.895055: I metal_plugin/src/device/metal_device.cc:296] systemMemory: 18.00 GB\n",
      "2025-03-19 22:02:32.895083: I metal_plugin/src/device/metal_device.cc:313] maxCacheSize: 6.00 GB\n",
      "2025-03-19 22:02:32.895818: I tensorflow/core/common_runtime/pluggable_device/pluggable_device_factory.cc:305] Could not identify NUMA node of platform GPU ID 0, defaulting to 0. Your kernel may not have been built with NUMA support.\n",
      "2025-03-19 22:02:32.895883: I tensorflow/core/common_runtime/pluggable_device/pluggable_device_factory.cc:271] Created TensorFlow device (/job:localhost/replica:0/task:0/device:GPU:0 with 0 MB memory) -> physical PluggableDevice (device: 0, name: METAL, pci bus id: <undefined>)\n"
     ]
    },
    {
     "data": {
      "text/html": [
       "<pre style=\"white-space:pre;overflow-x:auto;line-height:normal;font-family:Menlo,'DejaVu Sans Mono',consolas,'Courier New',monospace\"><span style=\"font-weight: bold\">Model: \"sequential\"</span>\n",
       "</pre>\n"
      ],
      "text/plain": [
       "\u001b[1mModel: \"sequential\"\u001b[0m\n"
      ]
     },
     "metadata": {},
     "output_type": "display_data"
    },
    {
     "data": {
      "text/html": [
       "<pre style=\"white-space:pre;overflow-x:auto;line-height:normal;font-family:Menlo,'DejaVu Sans Mono',consolas,'Courier New',monospace\">┏━━━━━━━━━━━━━━━━━━━━━━━━━━━━━━━━━┳━━━━━━━━━━━━━━━━━━━━━━━━┳━━━━━━━━━━━━━━━┓\n",
       "┃<span style=\"font-weight: bold\"> Layer (type)                    </span>┃<span style=\"font-weight: bold\"> Output Shape           </span>┃<span style=\"font-weight: bold\">       Param # </span>┃\n",
       "┡━━━━━━━━━━━━━━━━━━━━━━━━━━━━━━━━━╇━━━━━━━━━━━━━━━━━━━━━━━━╇━━━━━━━━━━━━━━━┩\n",
       "│ dense (<span style=\"color: #0087ff; text-decoration-color: #0087ff\">Dense</span>)                   │ (<span style=\"color: #00d7ff; text-decoration-color: #00d7ff\">None</span>, <span style=\"color: #00af00; text-decoration-color: #00af00\">128</span>)            │         <span style=\"color: #00af00; text-decoration-color: #00af00\">1,024</span> │\n",
       "├─────────────────────────────────┼────────────────────────┼───────────────┤\n",
       "│ batch_normalization             │ (<span style=\"color: #00d7ff; text-decoration-color: #00d7ff\">None</span>, <span style=\"color: #00af00; text-decoration-color: #00af00\">128</span>)            │           <span style=\"color: #00af00; text-decoration-color: #00af00\">512</span> │\n",
       "│ (<span style=\"color: #0087ff; text-decoration-color: #0087ff\">BatchNormalization</span>)            │                        │               │\n",
       "├─────────────────────────────────┼────────────────────────┼───────────────┤\n",
       "│ dropout (<span style=\"color: #0087ff; text-decoration-color: #0087ff\">Dropout</span>)               │ (<span style=\"color: #00d7ff; text-decoration-color: #00d7ff\">None</span>, <span style=\"color: #00af00; text-decoration-color: #00af00\">128</span>)            │             <span style=\"color: #00af00; text-decoration-color: #00af00\">0</span> │\n",
       "├─────────────────────────────────┼────────────────────────┼───────────────┤\n",
       "│ dense_1 (<span style=\"color: #0087ff; text-decoration-color: #0087ff\">Dense</span>)                 │ (<span style=\"color: #00d7ff; text-decoration-color: #00d7ff\">None</span>, <span style=\"color: #00af00; text-decoration-color: #00af00\">64</span>)             │         <span style=\"color: #00af00; text-decoration-color: #00af00\">8,256</span> │\n",
       "├─────────────────────────────────┼────────────────────────┼───────────────┤\n",
       "│ batch_normalization_1           │ (<span style=\"color: #00d7ff; text-decoration-color: #00d7ff\">None</span>, <span style=\"color: #00af00; text-decoration-color: #00af00\">64</span>)             │           <span style=\"color: #00af00; text-decoration-color: #00af00\">256</span> │\n",
       "│ (<span style=\"color: #0087ff; text-decoration-color: #0087ff\">BatchNormalization</span>)            │                        │               │\n",
       "├─────────────────────────────────┼────────────────────────┼───────────────┤\n",
       "│ dropout_1 (<span style=\"color: #0087ff; text-decoration-color: #0087ff\">Dropout</span>)             │ (<span style=\"color: #00d7ff; text-decoration-color: #00d7ff\">None</span>, <span style=\"color: #00af00; text-decoration-color: #00af00\">64</span>)             │             <span style=\"color: #00af00; text-decoration-color: #00af00\">0</span> │\n",
       "├─────────────────────────────────┼────────────────────────┼───────────────┤\n",
       "│ dense_2 (<span style=\"color: #0087ff; text-decoration-color: #0087ff\">Dense</span>)                 │ (<span style=\"color: #00d7ff; text-decoration-color: #00d7ff\">None</span>, <span style=\"color: #00af00; text-decoration-color: #00af00\">32</span>)             │         <span style=\"color: #00af00; text-decoration-color: #00af00\">2,080</span> │\n",
       "├─────────────────────────────────┼────────────────────────┼───────────────┤\n",
       "│ dense_3 (<span style=\"color: #0087ff; text-decoration-color: #0087ff\">Dense</span>)                 │ (<span style=\"color: #00d7ff; text-decoration-color: #00d7ff\">None</span>, <span style=\"color: #00af00; text-decoration-color: #00af00\">17</span>)             │           <span style=\"color: #00af00; text-decoration-color: #00af00\">561</span> │\n",
       "└─────────────────────────────────┴────────────────────────┴───────────────┘\n",
       "</pre>\n"
      ],
      "text/plain": [
       "┏━━━━━━━━━━━━━━━━━━━━━━━━━━━━━━━━━┳━━━━━━━━━━━━━━━━━━━━━━━━┳━━━━━━━━━━━━━━━┓\n",
       "┃\u001b[1m \u001b[0m\u001b[1mLayer (type)                   \u001b[0m\u001b[1m \u001b[0m┃\u001b[1m \u001b[0m\u001b[1mOutput Shape          \u001b[0m\u001b[1m \u001b[0m┃\u001b[1m \u001b[0m\u001b[1m      Param #\u001b[0m\u001b[1m \u001b[0m┃\n",
       "┡━━━━━━━━━━━━━━━━━━━━━━━━━━━━━━━━━╇━━━━━━━━━━━━━━━━━━━━━━━━╇━━━━━━━━━━━━━━━┩\n",
       "│ dense (\u001b[38;5;33mDense\u001b[0m)                   │ (\u001b[38;5;45mNone\u001b[0m, \u001b[38;5;34m128\u001b[0m)            │         \u001b[38;5;34m1,024\u001b[0m │\n",
       "├─────────────────────────────────┼────────────────────────┼───────────────┤\n",
       "│ batch_normalization             │ (\u001b[38;5;45mNone\u001b[0m, \u001b[38;5;34m128\u001b[0m)            │           \u001b[38;5;34m512\u001b[0m │\n",
       "│ (\u001b[38;5;33mBatchNormalization\u001b[0m)            │                        │               │\n",
       "├─────────────────────────────────┼────────────────────────┼───────────────┤\n",
       "│ dropout (\u001b[38;5;33mDropout\u001b[0m)               │ (\u001b[38;5;45mNone\u001b[0m, \u001b[38;5;34m128\u001b[0m)            │             \u001b[38;5;34m0\u001b[0m │\n",
       "├─────────────────────────────────┼────────────────────────┼───────────────┤\n",
       "│ dense_1 (\u001b[38;5;33mDense\u001b[0m)                 │ (\u001b[38;5;45mNone\u001b[0m, \u001b[38;5;34m64\u001b[0m)             │         \u001b[38;5;34m8,256\u001b[0m │\n",
       "├─────────────────────────────────┼────────────────────────┼───────────────┤\n",
       "│ batch_normalization_1           │ (\u001b[38;5;45mNone\u001b[0m, \u001b[38;5;34m64\u001b[0m)             │           \u001b[38;5;34m256\u001b[0m │\n",
       "│ (\u001b[38;5;33mBatchNormalization\u001b[0m)            │                        │               │\n",
       "├─────────────────────────────────┼────────────────────────┼───────────────┤\n",
       "│ dropout_1 (\u001b[38;5;33mDropout\u001b[0m)             │ (\u001b[38;5;45mNone\u001b[0m, \u001b[38;5;34m64\u001b[0m)             │             \u001b[38;5;34m0\u001b[0m │\n",
       "├─────────────────────────────────┼────────────────────────┼───────────────┤\n",
       "│ dense_2 (\u001b[38;5;33mDense\u001b[0m)                 │ (\u001b[38;5;45mNone\u001b[0m, \u001b[38;5;34m32\u001b[0m)             │         \u001b[38;5;34m2,080\u001b[0m │\n",
       "├─────────────────────────────────┼────────────────────────┼───────────────┤\n",
       "│ dense_3 (\u001b[38;5;33mDense\u001b[0m)                 │ (\u001b[38;5;45mNone\u001b[0m, \u001b[38;5;34m17\u001b[0m)             │           \u001b[38;5;34m561\u001b[0m │\n",
       "└─────────────────────────────────┴────────────────────────┴───────────────┘\n"
      ]
     },
     "metadata": {},
     "output_type": "display_data"
    },
    {
     "data": {
      "text/html": [
       "<pre style=\"white-space:pre;overflow-x:auto;line-height:normal;font-family:Menlo,'DejaVu Sans Mono',consolas,'Courier New',monospace\"><span style=\"font-weight: bold\"> Total params: </span><span style=\"color: #00af00; text-decoration-color: #00af00\">12,689</span> (49.57 KB)\n",
       "</pre>\n"
      ],
      "text/plain": [
       "\u001b[1m Total params: \u001b[0m\u001b[38;5;34m12,689\u001b[0m (49.57 KB)\n"
      ]
     },
     "metadata": {},
     "output_type": "display_data"
    },
    {
     "data": {
      "text/html": [
       "<pre style=\"white-space:pre;overflow-x:auto;line-height:normal;font-family:Menlo,'DejaVu Sans Mono',consolas,'Courier New',monospace\"><span style=\"font-weight: bold\"> Trainable params: </span><span style=\"color: #00af00; text-decoration-color: #00af00\">12,305</span> (48.07 KB)\n",
       "</pre>\n"
      ],
      "text/plain": [
       "\u001b[1m Trainable params: \u001b[0m\u001b[38;5;34m12,305\u001b[0m (48.07 KB)\n"
      ]
     },
     "metadata": {},
     "output_type": "display_data"
    },
    {
     "data": {
      "text/html": [
       "<pre style=\"white-space:pre;overflow-x:auto;line-height:normal;font-family:Menlo,'DejaVu Sans Mono',consolas,'Courier New',monospace\"><span style=\"font-weight: bold\"> Non-trainable params: </span><span style=\"color: #00af00; text-decoration-color: #00af00\">384</span> (1.50 KB)\n",
       "</pre>\n"
      ],
      "text/plain": [
       "\u001b[1m Non-trainable params: \u001b[0m\u001b[38;5;34m384\u001b[0m (1.50 KB)\n"
      ]
     },
     "metadata": {},
     "output_type": "display_data"
    }
   ],
   "source": [
    "\n",
    "from tensorflow.keras.models import Sequential\n",
    "from tensorflow.keras.layers import Dense, Dropout, BatchNormalization\n",
    "from tensorflow.keras.optimizers import Adam\n",
    "from tensorflow.keras.callbacks import EarlyStopping\n",
    "\n",
    "# Define model architecture\n",
    "dnnmodel = Sequential()\n",
    "dnnmodel.add(Dense(128, input_shape=(X_train.shape[1],), activation='relu'))\n",
    "dnnmodel.add(BatchNormalization())\n",
    "dnnmodel.add(Dropout(0.3))  # Reduce overfitting\n",
    "\n",
    "dnnmodel.add(Dense(64, activation='relu'))\n",
    "dnnmodel.add(BatchNormalization())\n",
    "dnnmodel.add(Dropout(0.3))\n",
    "\n",
    "dnnmodel.add(Dense(32, activation='relu'))\n",
    "dnnmodel.add(Dense(len(np.unique(y)), activation='softmax'))  # Output layer for multi-class classification\n",
    "\n",
    "# Compile the model\n",
    "dnnmodel.compile(optimizer=Adam(learning_rate=0.001), loss='sparse_categorical_crossentropy', metrics=['accuracy'])\n",
    "dnnmodel.summary()"
   ]
  },
  {
   "cell_type": "code",
   "execution_count": 107,
   "id": "4084087a",
   "metadata": {},
   "outputs": [
    {
     "name": "stdout",
     "output_type": "stream",
     "text": [
      "Epoch 1/25\n",
      "\u001b[1m2904/2904\u001b[0m \u001b[32m━━━━━━━━━━━━━━━━━━━━\u001b[0m\u001b[37m\u001b[0m \u001b[1m28s\u001b[0m 10ms/step - accuracy: 0.0786 - loss: 2214.9241\n",
      "Epoch 2/25\n",
      "\u001b[1m2904/2904\u001b[0m \u001b[32m━━━━━━━━━━━━━━━━━━━━\u001b[0m\u001b[37m\u001b[0m \u001b[1m28s\u001b[0m 10ms/step - accuracy: 0.0784 - loss: 2207.2319\n",
      "Epoch 3/25\n",
      "\u001b[1m2904/2904\u001b[0m \u001b[32m━━━━━━━━━━━━━━━━━━━━\u001b[0m\u001b[37m\u001b[0m \u001b[1m29s\u001b[0m 10ms/step - accuracy: 0.0790 - loss: 2263.6787\n",
      "Epoch 4/25\n",
      "\u001b[1m2904/2904\u001b[0m \u001b[32m━━━━━━━━━━━━━━━━━━━━\u001b[0m\u001b[37m\u001b[0m \u001b[1m28s\u001b[0m 10ms/step - accuracy: 0.0802 - loss: 2276.3267\n",
      "Epoch 5/25\n",
      "\u001b[1m2904/2904\u001b[0m \u001b[32m━━━━━━━━━━━━━━━━━━━━\u001b[0m\u001b[37m\u001b[0m \u001b[1m28s\u001b[0m 10ms/step - accuracy: 0.0810 - loss: 2214.5828\n",
      "Epoch 6/25\n",
      "\u001b[1m2904/2904\u001b[0m \u001b[32m━━━━━━━━━━━━━━━━━━━━\u001b[0m\u001b[37m\u001b[0m \u001b[1m28s\u001b[0m 10ms/step - accuracy: 0.0812 - loss: 2241.3325\n",
      "Epoch 7/25\n",
      "\u001b[1m2904/2904\u001b[0m \u001b[32m━━━━━━━━━━━━━━━━━━━━\u001b[0m\u001b[37m\u001b[0m \u001b[1m28s\u001b[0m 10ms/step - accuracy: 0.0804 - loss: 2373.1917\n",
      "Epoch 8/25\n",
      "\u001b[1m2904/2904\u001b[0m \u001b[32m━━━━━━━━━━━━━━━━━━━━\u001b[0m\u001b[37m\u001b[0m \u001b[1m29s\u001b[0m 10ms/step - accuracy: 0.0817 - loss: 2421.6267\n",
      "Epoch 9/25\n",
      "\u001b[1m2904/2904\u001b[0m \u001b[32m━━━━━━━━━━━━━━━━━━━━\u001b[0m\u001b[37m\u001b[0m \u001b[1m28s\u001b[0m 10ms/step - accuracy: 0.0816 - loss: 2422.7319\n",
      "Epoch 10/25\n",
      "\u001b[1m2904/2904\u001b[0m \u001b[32m━━━━━━━━━━━━━━━━━━━━\u001b[0m\u001b[37m\u001b[0m \u001b[1m28s\u001b[0m 10ms/step - accuracy: 0.0807 - loss: 2403.4617\n",
      "Epoch 11/25\n",
      "\u001b[1m2904/2904\u001b[0m \u001b[32m━━━━━━━━━━━━━━━━━━━━\u001b[0m\u001b[37m\u001b[0m \u001b[1m28s\u001b[0m 10ms/step - accuracy: 0.0807 - loss: 2405.6760\n",
      "Epoch 12/25\n",
      "\u001b[1m2904/2904\u001b[0m \u001b[32m━━━━━━━━━━━━━━━━━━━━\u001b[0m\u001b[37m\u001b[0m \u001b[1m29s\u001b[0m 10ms/step - accuracy: 0.0789 - loss: 2593.0181\n",
      "Epoch 13/25\n",
      "\u001b[1m2904/2904\u001b[0m \u001b[32m━━━━━━━━━━━━━━━━━━━━\u001b[0m\u001b[37m\u001b[0m \u001b[1m29s\u001b[0m 10ms/step - accuracy: 0.0802 - loss: 2588.6416\n",
      "Epoch 14/25\n",
      "\u001b[1m2904/2904\u001b[0m \u001b[32m━━━━━━━━━━━━━━━━━━━━\u001b[0m\u001b[37m\u001b[0m \u001b[1m29s\u001b[0m 10ms/step - accuracy: 0.0786 - loss: 2559.0649\n",
      "Epoch 15/25\n",
      "\u001b[1m2904/2904\u001b[0m \u001b[32m━━━━━━━━━━━━━━━━━━━━\u001b[0m\u001b[37m\u001b[0m \u001b[1m29s\u001b[0m 10ms/step - accuracy: 0.0810 - loss: 2558.0217\n",
      "Epoch 16/25\n",
      "\u001b[1m2904/2904\u001b[0m \u001b[32m━━━━━━━━━━━━━━━━━━━━\u001b[0m\u001b[37m\u001b[0m \u001b[1m29s\u001b[0m 10ms/step - accuracy: 0.0793 - loss: 2633.7681\n",
      "Epoch 17/25\n",
      "\u001b[1m2904/2904\u001b[0m \u001b[32m━━━━━━━━━━━━━━━━━━━━\u001b[0m\u001b[37m\u001b[0m \u001b[1m29s\u001b[0m 10ms/step - accuracy: 0.0809 - loss: 2692.3337\n",
      "Epoch 18/25\n",
      "\u001b[1m2904/2904\u001b[0m \u001b[32m━━━━━━━━━━━━━━━━━━━━\u001b[0m\u001b[37m\u001b[0m \u001b[1m29s\u001b[0m 10ms/step - accuracy: 0.0793 - loss: 2775.9263\n",
      "Epoch 19/25\n",
      "\u001b[1m2904/2904\u001b[0m \u001b[32m━━━━━━━━━━━━━━━━━━━━\u001b[0m\u001b[37m\u001b[0m \u001b[1m29s\u001b[0m 10ms/step - accuracy: 0.0806 - loss: 2771.2551\n",
      "Epoch 20/25\n",
      "\u001b[1m2904/2904\u001b[0m \u001b[32m━━━━━━━━━━━━━━━━━━━━\u001b[0m\u001b[37m\u001b[0m \u001b[1m29s\u001b[0m 10ms/step - accuracy: 0.0799 - loss: 2767.3611\n",
      "Epoch 21/25\n",
      "\u001b[1m2904/2904\u001b[0m \u001b[32m━━━━━━━━━━━━━━━━━━━━\u001b[0m\u001b[37m\u001b[0m \u001b[1m29s\u001b[0m 10ms/step - accuracy: 0.0824 - loss: 2708.4580\n",
      "Epoch 22/25\n",
      "\u001b[1m2904/2904\u001b[0m \u001b[32m━━━━━━━━━━━━━━━━━━━━\u001b[0m\u001b[37m\u001b[0m \u001b[1m29s\u001b[0m 10ms/step - accuracy: 0.0786 - loss: 2892.6741\n",
      "Epoch 23/25\n",
      "\u001b[1m2904/2904\u001b[0m \u001b[32m━━━━━━━━━━━━━━━━━━━━\u001b[0m\u001b[37m\u001b[0m \u001b[1m29s\u001b[0m 10ms/step - accuracy: 0.0794 - loss: 2863.2090\n",
      "Epoch 24/25\n",
      "\u001b[1m2904/2904\u001b[0m \u001b[32m━━━━━━━━━━━━━━━━━━━━\u001b[0m\u001b[37m\u001b[0m \u001b[1m29s\u001b[0m 10ms/step - accuracy: 0.0795 - loss: 2925.0774\n",
      "Epoch 25/25\n",
      "\u001b[1m2904/2904\u001b[0m \u001b[32m━━━━━━━━━━━━━━━━━━━━\u001b[0m\u001b[37m\u001b[0m \u001b[1m29s\u001b[0m 10ms/step - accuracy: 0.0798 - loss: 2908.9976\n"
     ]
    }
   ],
   "source": [
    "\n",
    "# Early stopping to avoid overfitting\n",
    "early_stopping = EarlyStopping(monitor='val_loss', patience=10, restore_best_weights=True)\n",
    "\n",
    "# Train the model\n",
    "history = dnnmodel.fit(\n",
    "    X_train, y_train,\n",
    "    epochs=25,  # Can be increased for better results\n",
    "    batch_size=64,  # Larger batch sizes can improve performance\n",
    "    callbacks=[early_stopping]\n",
    ")"
   ]
  },
  {
   "cell_type": "code",
   "execution_count": 108,
   "id": "c3ea7d95",
   "metadata": {},
   "outputs": [],
   "source": [
    "# Train the model\n",
    "#history = dnnmodel.fit(X_train, y_train, epochs=50, batch_size=8, validation_data=(X_test, y_test), verbose=1)"
   ]
  },
  {
   "cell_type": "code",
   "execution_count": 109,
   "id": "ee737741",
   "metadata": {},
   "outputs": [
    {
     "name": "stdout",
     "output_type": "stream",
     "text": [
      "\u001b[1m2489/2489\u001b[0m \u001b[32m━━━━━━━━━━━━━━━━━━━━\u001b[0m\u001b[37m\u001b[0m \u001b[1m7s\u001b[0m 3ms/step - accuracy: 0.0941 - loss: 3279.0342\n",
      "Test Accuracy: 0.0941\n"
     ]
    }
   ],
   "source": [
    "# Evaluate the model on the test set\n",
    "loss, accuracy = dnnmodel.evaluate(X_test, y_test)\n",
    "print(f\"Test Accuracy: {accuracy:.4f}\")"
   ]
  },
  {
   "cell_type": "code",
   "execution_count": 114,
   "id": "192f98b1",
   "metadata": {},
   "outputs": [
    {
     "name": "stdout",
     "output_type": "stream",
     "text": [
      "\u001b[1m2489/2489\u001b[0m \u001b[32m━━━━━━━━━━━━━━━━━━━━\u001b[0m\u001b[37m\u001b[0m \u001b[1m6s\u001b[0m 2ms/step - accuracy: 0.0941 - loss: 3279.0342\n",
      "Test Accuracy: 9.41%\n"
     ]
    }
   ],
   "source": [
    "\n",
    "# Evaluate on test data\n",
    "loss, accuracy = dnnmodel.evaluate(X_test, y_test, verbose=1)\n",
    "print(f\"Test Accuracy: {accuracy * 100:.2f}%\")"
   ]
  },
  {
   "cell_type": "code",
   "execution_count": 116,
   "id": "8bc1107a",
   "metadata": {},
   "outputs": [
    {
     "name": "stdout",
     "output_type": "stream",
     "text": [
      "\u001b[1m2489/2489\u001b[0m \u001b[32m━━━━━━━━━━━━━━━━━━━━\u001b[0m\u001b[37m\u001b[0m \u001b[1m2s\u001b[0m 956us/step\n",
      "Classification Report:\n",
      "               precision    recall  f1-score   support\n",
      "\n",
      "           0       0.09      0.40      0.15      4720\n",
      "           1       0.03      0.01      0.02      4711\n",
      "           2       0.06      0.46      0.10      4636\n",
      "           3       0.18      0.00      0.00      4688\n",
      "           4       0.00      0.00      0.00      4668\n",
      "           5       0.00      0.00      0.00      4718\n",
      "           6       0.18      0.61      0.28      4698\n",
      "           7       0.00      0.00      0.00      4623\n",
      "           8       0.04      0.00      0.00      4689\n",
      "           9       0.00      0.00      0.00      4682\n",
      "          10       0.00      0.00      0.00      4709\n",
      "          11       0.10      0.02      0.03      4690\n",
      "          12       0.21      0.08      0.11      4668\n",
      "          13       0.00      0.00      0.00      4652\n",
      "          14       0.08      0.02      0.03      4660\n",
      "          15       0.07      0.01      0.01      4711\n",
      "          16       0.06      0.00      0.00      4712\n",
      "\n",
      "    accuracy                           0.09     79635\n",
      "   macro avg       0.06      0.09      0.04     79635\n",
      "weighted avg       0.06      0.09      0.04     79635\n",
      "\n"
     ]
    },
    {
     "name": "stderr",
     "output_type": "stream",
     "text": [
      "/opt/anaconda3/lib/python3.11/site-packages/sklearn/metrics/_classification.py:1344: UndefinedMetricWarning: Precision and F-score are ill-defined and being set to 0.0 in labels with no predicted samples. Use `zero_division` parameter to control this behavior.\n",
      "  _warn_prf(average, modifier, msg_start, len(result))\n",
      "/opt/anaconda3/lib/python3.11/site-packages/sklearn/metrics/_classification.py:1344: UndefinedMetricWarning: Precision and F-score are ill-defined and being set to 0.0 in labels with no predicted samples. Use `zero_division` parameter to control this behavior.\n",
      "  _warn_prf(average, modifier, msg_start, len(result))\n",
      "/opt/anaconda3/lib/python3.11/site-packages/sklearn/metrics/_classification.py:1344: UndefinedMetricWarning: Precision and F-score are ill-defined and being set to 0.0 in labels with no predicted samples. Use `zero_division` parameter to control this behavior.\n",
      "  _warn_prf(average, modifier, msg_start, len(result))\n"
     ]
    }
   ],
   "source": [
    "# Get predicted class labels\n",
    "y_pred = np.argmax(dnnmodel.predict(X_test), axis=1)\n",
    "# Generate classification report\n",
    "class_report = classification_report(y_test, y_pred)\n",
    "print(\"Classification Report:\\n\", class_report)"
   ]
  },
  {
   "cell_type": "code",
   "execution_count": null,
   "id": "e736fd50",
   "metadata": {},
   "outputs": [],
   "source": []
  }
 ],
 "metadata": {
  "kernelspec": {
   "display_name": "Python 3 (ipykernel)",
   "language": "python",
   "name": "python3"
  },
  "language_info": {
   "codemirror_mode": {
    "name": "ipython",
    "version": 3
   },
   "file_extension": ".py",
   "mimetype": "text/x-python",
   "name": "python",
   "nbconvert_exporter": "python",
   "pygments_lexer": "ipython3",
   "version": "3.11.7"
  }
 },
 "nbformat": 4,
 "nbformat_minor": 5
}
